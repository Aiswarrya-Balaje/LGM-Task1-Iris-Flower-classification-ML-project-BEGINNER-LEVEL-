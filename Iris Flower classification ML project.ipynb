{
 "cells": [
  {
   "cell_type": "code",
   "execution_count": null,
   "id": "135f866a",
   "metadata": {},
   "outputs": [],
   "source": [
    "# Task 1 Iris Flower classification ML project (BEGINNER LEVEL TASK 1)"
   ]
  },
  {
   "cell_type": "code",
   "execution_count": 16,
   "id": "f004d3ff",
   "metadata": {},
   "outputs": [],
   "source": [
    "import pandas as pd\n",
    "import matplotlib.pyplot as plt\n",
    "from sklearn.linear_model import LinearRegression\n",
    "from sklearn.model_selection import train_test_split\n",
    "from sklearn.metrics import mean_squared_error,r2_score\n",
    "from sklearn.preprocessing import LabelEncoder"
   ]
  },
  {
   "cell_type": "code",
   "execution_count": 17,
   "id": "8e5c9031",
   "metadata": {},
   "outputs": [],
   "source": [
    "filePath = \"iris.data\"\n",
    "column_name = [\"sepal_length\", \"sepal_width\", \"petal_length\", \"petal_width\", \"class\"]\n",
    "data = pd.read_csv(filePath, names=column_names)"
   ]
  },
  {
   "cell_type": "code",
   "execution_count": 18,
   "id": "9a3355d9",
   "metadata": {},
   "outputs": [
    {
     "data": {
      "text/html": [
       "<div>\n",
       "<style scoped>\n",
       "    .dataframe tbody tr th:only-of-type {\n",
       "        vertical-align: middle;\n",
       "    }\n",
       "\n",
       "    .dataframe tbody tr th {\n",
       "        vertical-align: top;\n",
       "    }\n",
       "\n",
       "    .dataframe thead th {\n",
       "        text-align: right;\n",
       "    }\n",
       "</style>\n",
       "<table border=\"1\" class=\"dataframe\">\n",
       "  <thead>\n",
       "    <tr style=\"text-align: right;\">\n",
       "      <th></th>\n",
       "      <th>sepal_length</th>\n",
       "      <th>sepal_width</th>\n",
       "      <th>petal_length</th>\n",
       "      <th>petal_width</th>\n",
       "      <th>class</th>\n",
       "    </tr>\n",
       "  </thead>\n",
       "  <tbody>\n",
       "    <tr>\n",
       "      <th>0</th>\n",
       "      <td>5.1</td>\n",
       "      <td>3.5</td>\n",
       "      <td>1.4</td>\n",
       "      <td>0.2</td>\n",
       "      <td>Iris-setosa</td>\n",
       "    </tr>\n",
       "    <tr>\n",
       "      <th>1</th>\n",
       "      <td>4.9</td>\n",
       "      <td>3.0</td>\n",
       "      <td>1.4</td>\n",
       "      <td>0.2</td>\n",
       "      <td>Iris-setosa</td>\n",
       "    </tr>\n",
       "    <tr>\n",
       "      <th>2</th>\n",
       "      <td>4.7</td>\n",
       "      <td>3.2</td>\n",
       "      <td>1.3</td>\n",
       "      <td>0.2</td>\n",
       "      <td>Iris-setosa</td>\n",
       "    </tr>\n",
       "    <tr>\n",
       "      <th>3</th>\n",
       "      <td>4.6</td>\n",
       "      <td>3.1</td>\n",
       "      <td>1.5</td>\n",
       "      <td>0.2</td>\n",
       "      <td>Iris-setosa</td>\n",
       "    </tr>\n",
       "    <tr>\n",
       "      <th>4</th>\n",
       "      <td>5.0</td>\n",
       "      <td>3.6</td>\n",
       "      <td>1.4</td>\n",
       "      <td>0.2</td>\n",
       "      <td>Iris-setosa</td>\n",
       "    </tr>\n",
       "  </tbody>\n",
       "</table>\n",
       "</div>"
      ],
      "text/plain": [
       "   sepal_length  sepal_width  petal_length  petal_width        class\n",
       "0           5.1          3.5           1.4          0.2  Iris-setosa\n",
       "1           4.9          3.0           1.4          0.2  Iris-setosa\n",
       "2           4.7          3.2           1.3          0.2  Iris-setosa\n",
       "3           4.6          3.1           1.5          0.2  Iris-setosa\n",
       "4           5.0          3.6           1.4          0.2  Iris-setosa"
      ]
     },
     "execution_count": 18,
     "metadata": {},
     "output_type": "execute_result"
    }
   ],
   "source": [
    "data.head()"
   ]
  },
  {
   "cell_type": "code",
   "execution_count": 19,
   "id": "a4d10cfc",
   "metadata": {},
   "outputs": [
    {
     "data": {
      "text/html": [
       "<div>\n",
       "<style scoped>\n",
       "    .dataframe tbody tr th:only-of-type {\n",
       "        vertical-align: middle;\n",
       "    }\n",
       "\n",
       "    .dataframe tbody tr th {\n",
       "        vertical-align: top;\n",
       "    }\n",
       "\n",
       "    .dataframe thead th {\n",
       "        text-align: right;\n",
       "    }\n",
       "</style>\n",
       "<table border=\"1\" class=\"dataframe\">\n",
       "  <thead>\n",
       "    <tr style=\"text-align: right;\">\n",
       "      <th></th>\n",
       "      <th>sepal_length</th>\n",
       "      <th>sepal_width</th>\n",
       "      <th>petal_length</th>\n",
       "      <th>petal_width</th>\n",
       "      <th>class</th>\n",
       "    </tr>\n",
       "  </thead>\n",
       "  <tbody>\n",
       "    <tr>\n",
       "      <th>145</th>\n",
       "      <td>6.7</td>\n",
       "      <td>3.0</td>\n",
       "      <td>5.2</td>\n",
       "      <td>2.3</td>\n",
       "      <td>Iris-virginica</td>\n",
       "    </tr>\n",
       "    <tr>\n",
       "      <th>146</th>\n",
       "      <td>6.3</td>\n",
       "      <td>2.5</td>\n",
       "      <td>5.0</td>\n",
       "      <td>1.9</td>\n",
       "      <td>Iris-virginica</td>\n",
       "    </tr>\n",
       "    <tr>\n",
       "      <th>147</th>\n",
       "      <td>6.5</td>\n",
       "      <td>3.0</td>\n",
       "      <td>5.2</td>\n",
       "      <td>2.0</td>\n",
       "      <td>Iris-virginica</td>\n",
       "    </tr>\n",
       "    <tr>\n",
       "      <th>148</th>\n",
       "      <td>6.2</td>\n",
       "      <td>3.4</td>\n",
       "      <td>5.4</td>\n",
       "      <td>2.3</td>\n",
       "      <td>Iris-virginica</td>\n",
       "    </tr>\n",
       "    <tr>\n",
       "      <th>149</th>\n",
       "      <td>5.9</td>\n",
       "      <td>3.0</td>\n",
       "      <td>5.1</td>\n",
       "      <td>1.8</td>\n",
       "      <td>Iris-virginica</td>\n",
       "    </tr>\n",
       "  </tbody>\n",
       "</table>\n",
       "</div>"
      ],
      "text/plain": [
       "     sepal_length  sepal_width  petal_length  petal_width           class\n",
       "145           6.7          3.0           5.2          2.3  Iris-virginica\n",
       "146           6.3          2.5           5.0          1.9  Iris-virginica\n",
       "147           6.5          3.0           5.2          2.0  Iris-virginica\n",
       "148           6.2          3.4           5.4          2.3  Iris-virginica\n",
       "149           5.9          3.0           5.1          1.8  Iris-virginica"
      ]
     },
     "execution_count": 19,
     "metadata": {},
     "output_type": "execute_result"
    }
   ],
   "source": [
    "data.tail()"
   ]
  },
  {
   "cell_type": "code",
   "execution_count": 20,
   "id": "925b07c2",
   "metadata": {},
   "outputs": [
    {
     "data": {
      "text/plain": [
       "sepal_length    0\n",
       "sepal_width     0\n",
       "petal_length    0\n",
       "petal_width     0\n",
       "class           0\n",
       "dtype: int64"
      ]
     },
     "execution_count": 20,
     "metadata": {},
     "output_type": "execute_result"
    }
   ],
   "source": [
    "data.isnull().sum()"
   ]
  },
  {
   "cell_type": "code",
   "execution_count": 21,
   "id": "39f30316",
   "metadata": {},
   "outputs": [
    {
     "data": {
      "text/html": [
       "<div>\n",
       "<style scoped>\n",
       "    .dataframe tbody tr th:only-of-type {\n",
       "        vertical-align: middle;\n",
       "    }\n",
       "\n",
       "    .dataframe tbody tr th {\n",
       "        vertical-align: top;\n",
       "    }\n",
       "\n",
       "    .dataframe thead th {\n",
       "        text-align: right;\n",
       "    }\n",
       "</style>\n",
       "<table border=\"1\" class=\"dataframe\">\n",
       "  <thead>\n",
       "    <tr style=\"text-align: right;\">\n",
       "      <th></th>\n",
       "      <th>sepal_length</th>\n",
       "      <th>sepal_width</th>\n",
       "      <th>petal_length</th>\n",
       "      <th>petal_width</th>\n",
       "    </tr>\n",
       "  </thead>\n",
       "  <tbody>\n",
       "    <tr>\n",
       "      <th>count</th>\n",
       "      <td>150.000000</td>\n",
       "      <td>150.000000</td>\n",
       "      <td>150.000000</td>\n",
       "      <td>150.000000</td>\n",
       "    </tr>\n",
       "    <tr>\n",
       "      <th>mean</th>\n",
       "      <td>5.843333</td>\n",
       "      <td>3.054000</td>\n",
       "      <td>3.758667</td>\n",
       "      <td>1.198667</td>\n",
       "    </tr>\n",
       "    <tr>\n",
       "      <th>std</th>\n",
       "      <td>0.828066</td>\n",
       "      <td>0.433594</td>\n",
       "      <td>1.764420</td>\n",
       "      <td>0.763161</td>\n",
       "    </tr>\n",
       "    <tr>\n",
       "      <th>min</th>\n",
       "      <td>4.300000</td>\n",
       "      <td>2.000000</td>\n",
       "      <td>1.000000</td>\n",
       "      <td>0.100000</td>\n",
       "    </tr>\n",
       "    <tr>\n",
       "      <th>25%</th>\n",
       "      <td>5.100000</td>\n",
       "      <td>2.800000</td>\n",
       "      <td>1.600000</td>\n",
       "      <td>0.300000</td>\n",
       "    </tr>\n",
       "    <tr>\n",
       "      <th>50%</th>\n",
       "      <td>5.800000</td>\n",
       "      <td>3.000000</td>\n",
       "      <td>4.350000</td>\n",
       "      <td>1.300000</td>\n",
       "    </tr>\n",
       "    <tr>\n",
       "      <th>75%</th>\n",
       "      <td>6.400000</td>\n",
       "      <td>3.300000</td>\n",
       "      <td>5.100000</td>\n",
       "      <td>1.800000</td>\n",
       "    </tr>\n",
       "    <tr>\n",
       "      <th>max</th>\n",
       "      <td>7.900000</td>\n",
       "      <td>4.400000</td>\n",
       "      <td>6.900000</td>\n",
       "      <td>2.500000</td>\n",
       "    </tr>\n",
       "  </tbody>\n",
       "</table>\n",
       "</div>"
      ],
      "text/plain": [
       "       sepal_length  sepal_width  petal_length  petal_width\n",
       "count    150.000000   150.000000    150.000000   150.000000\n",
       "mean       5.843333     3.054000      3.758667     1.198667\n",
       "std        0.828066     0.433594      1.764420     0.763161\n",
       "min        4.300000     2.000000      1.000000     0.100000\n",
       "25%        5.100000     2.800000      1.600000     0.300000\n",
       "50%        5.800000     3.000000      4.350000     1.300000\n",
       "75%        6.400000     3.300000      5.100000     1.800000\n",
       "max        7.900000     4.400000      6.900000     2.500000"
      ]
     },
     "execution_count": 21,
     "metadata": {},
     "output_type": "execute_result"
    }
   ],
   "source": [
    "data.describe()"
   ]
  },
  {
   "cell_type": "code",
   "execution_count": 22,
   "id": "5aaeb0c1",
   "metadata": {},
   "outputs": [],
   "source": [
    "label_encoder =LabelEncoder()\n",
    "data['class']= label_encoder.fit_transform(data['class'])"
   ]
  },
  {
   "cell_type": "code",
   "execution_count": 23,
   "id": "e6ee78ba",
   "metadata": {},
   "outputs": [
    {
     "name": "stdout",
     "output_type": "stream",
     "text": [
      "Independent variables are : \n",
      "      sepal_length  sepal_width  petal_length\n",
      "0             5.1          3.5           1.4\n",
      "1             4.9          3.0           1.4\n",
      "2             4.7          3.2           1.3\n",
      "3             4.6          3.1           1.5\n",
      "4             5.0          3.6           1.4\n",
      "..            ...          ...           ...\n",
      "145           6.7          3.0           5.2\n",
      "146           6.3          2.5           5.0\n",
      "147           6.5          3.0           5.2\n",
      "148           6.2          3.4           5.4\n",
      "149           5.9          3.0           5.1\n",
      "\n",
      "[150 rows x 3 columns]\n",
      "\n",
      "Dependent variables are : \n",
      " 0      0\n",
      "1      0\n",
      "2      0\n",
      "3      0\n",
      "4      0\n",
      "      ..\n",
      "145    2\n",
      "146    2\n",
      "147    2\n",
      "148    2\n",
      "149    2\n",
      "Name: class, Length: 150, dtype: int32\n"
     ]
    }
   ],
   "source": [
    "#independent variables x\n",
    "x=data.iloc[:,:3]\n",
    "\n",
    "#dependent variable y\n",
    "y=data.iloc[:,-1]\n",
    "\n",
    "print(\"Independent variables are : \\n\",x)\n",
    "print(\"\\nDependent variables are : \\n\",y)"
   ]
  },
  {
   "cell_type": "code",
   "execution_count": 24,
   "id": "0e5c3e53",
   "metadata": {},
   "outputs": [
    {
     "name": "stdout",
     "output_type": "stream",
     "text": [
      "\n",
      "Model :  LinearRegression()\n"
     ]
    }
   ],
   "source": [
    "#splitting \n",
    "x_train,x_test,y_train,y_test=train_test_split(x,y,test_size=0.4,random_state=4)\n",
    "\n",
    "#  model\n",
    "lm=LinearRegression()\n",
    "model=lm.fit(x_train,y_train)\n",
    "print(\"\\nModel : \",model)"
   ]
  },
  {
   "cell_type": "code",
   "execution_count": 25,
   "id": "944f7113",
   "metadata": {},
   "outputs": [
    {
     "name": "stdout",
     "output_type": "stream",
     "text": [
      "\n",
      "y_test : \n",
      "128    2\n",
      "18     0\n",
      "130    2\n",
      "105    2\n",
      "107    2\n",
      "78     1\n",
      "83     1\n",
      "14     0\n",
      "5      0\n",
      "133    2\n",
      "25     0\n",
      "11     0\n",
      "12     0\n",
      "63     1\n",
      "113    2\n",
      "34     0\n",
      "60     1\n",
      "2      0\n",
      "24     0\n",
      "123    2\n",
      "35     0\n",
      "124    2\n",
      "68     1\n",
      "26     0\n",
      "29     0\n",
      "19     0\n",
      "41     0\n",
      "16     0\n",
      "20     0\n",
      "101    2\n",
      "84     1\n",
      "47     0\n",
      "108    2\n",
      "1      0\n",
      "93     1\n",
      "144    2\n",
      "125    2\n",
      "92     1\n",
      "86     1\n",
      "46     0\n",
      "135    2\n",
      "7      0\n",
      "65     1\n",
      "10     0\n",
      "132    2\n",
      "13     0\n",
      "15     0\n",
      "61     1\n",
      "91     1\n",
      "116    2\n",
      "27     0\n",
      "69     1\n",
      "118    2\n",
      "136    2\n",
      "97     1\n",
      "96     1\n",
      "43     0\n",
      "64     1\n",
      "119    2\n",
      "90     1\n",
      "Name: class, dtype: int32 \n",
      "\n",
      "y_pred : \n",
      "[ 1.87649173e+00 -5.14791953e-02  1.86562231e+00  2.12190410e+00\n",
      "  2.02501689e+00  1.37031171e+00  1.69345205e+00 -3.46626677e-01\n",
      "  5.19296703e-02  1.61586046e+00 -1.74068292e-03  1.10227347e-01\n",
      " -5.77264009e-02  1.45646417e+00  1.69997541e+00 -1.68249059e-02\n",
      "  9.74205399e-01 -5.99019879e-02  2.84706154e-01  1.48663262e+00\n",
      " -2.08561820e-01  1.90869428e+00  1.21961777e+00  4.98938610e-02\n",
      "  1.14576819e-01  1.32020595e-02 -1.15746225e-01 -1.80708738e-01\n",
      " -1.26135096e-02  1.75378554e+00  1.56422081e+00  2.84243574e-02\n",
      "  1.86358479e+00 -8.78931441e-02  8.96612102e-01  1.90869428e+00\n",
      "  1.91943074e+00  1.10112128e+00  1.30128099e+00  7.13616617e-02\n",
      "  1.80093935e+00 -8.26574120e-03  1.12680218e+00 -9.02068061e-02\n",
      "  1.87649173e+00 -8.13714915e-02 -9.03465838e-02  1.23890829e+00\n",
      "  1.41121321e+00  1.81398265e+00 -5.56905916e-02  1.09038653e+00\n",
      "  2.21458162e+00  1.98411029e+00  1.19365902e+00  1.28633314e+00\n",
      "  6.28024970e-02  9.67542266e-01  1.57074927e+00  1.42425992e+00]\n"
     ]
    }
   ],
   "source": [
    "#predict\n",
    "y_pred=model.predict(x_test)\n",
    "print(f'\\ny_test : \\n{y_test} \\n\\ny_pred : \\n{y_pred}')"
   ]
  },
  {
   "cell_type": "code",
   "execution_count": 26,
   "id": "fc98765e",
   "metadata": {},
   "outputs": [
    {
     "name": "stdout",
     "output_type": "stream",
     "text": [
      "Coefficient of Determination :  [-0.30166743  0.12908636  0.58159602]\n",
      "\n",
      "Mean squared error :  0.053394710354059176\n",
      "\n",
      "R squared error :  0.9240533554821758\n"
     ]
    }
   ],
   "source": [
    "print(\"Coefficient of Determination : \",model.coef_)\n",
    "print(\"\\nMean squared error : \",mean_squared_error(y_test,y_pred))\n",
    "print(\"\\nR squared error : \",r2_score(y_test,y_pred))"
   ]
  },
  {
   "cell_type": "code",
   "execution_count": 27,
   "id": "68212ff0",
   "metadata": {},
   "outputs": [
    {
     "data": {
      "image/png": "[encoded data removed]",
      "text/plain": [
       "<Figure size 640x480 with 1 Axes>"
      ]
     },
     "metadata": {},
     "output_type": "display_data"
    }
   ],
   "source": [
    "#boxplot for outliers\n",
    "plt.boxplot(data)\n",
    "plt.show()"
   ]
  },
  {
   "cell_type": "code",
   "execution_count": null,
   "id": "33f5facf",
   "metadata": {},
   "outputs": [],
   "source": []
  },
  {
   "cell_type": "code",
   "execution_count": null,
   "id": "bc8ace12",
   "metadata": {},
   "outputs": [],
   "source": []
  }
 ],
 "metadata": {
  "kernelspec": {
   "display_name": "Python 3 (ipykernel)",
   "language": "python",
   "name": "python3"
  },
  "language_info": {
   "codemirror_mode": {
    "name": "ipython",
    "version": 3
   },
   "file_extension": ".py",
   "mimetype": "text/x-python",
   "name": "python",
   "nbconvert_exporter": "python",
   "pygments_lexer": "ipython3",
   "version": "3.9.7"
  }
 },
 "nbformat": 4,
 "nbformat_minor": 5
}
